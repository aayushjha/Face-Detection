{
 "cells": [
  {
   "cell_type": "code",
   "execution_count": 3,
   "metadata": {},
   "outputs": [],
   "source": [
    "import cv2 as cv\n",
    "from PIL import Image\n",
    "import numpy as np\n",
    "import io\n",
    "import matplotlib.pyplot as plt"
   ]
  },
  {
   "cell_type": "code",
   "execution_count": 4,
   "metadata": {},
   "outputs": [],
   "source": [
    "model=cv.CascadeClassifier(\"haar_frontal.xml\")"
   ]
  },
  {
   "cell_type": "code",
   "execution_count": 5,
   "metadata": {},
   "outputs": [
    {
     "name": "stdout",
     "output_type": "stream",
     "text": [
      "collecting samples complete\n"
     ]
    }
   ],
   "source": [
    "#extracting faces\n",
    "def face_extractor(img):\n",
    "    img_gray=cv.cvtColor(img,cv.COLOR_RGB2GRAY)\n",
    "    faces=model.detectMultiScale(img_gray,1.3,5)\n",
    "    \n",
    "    \n",
    "    if faces is():\n",
    "        return None\n",
    "    \n",
    "    \n",
    "    for(x,y,w,h) in faces:\n",
    "            cropped_face=img[y:y+h,x:x+w]\n",
    "        \n",
    "            return cropped_face\n",
    "\n",
    "cam=cv.VideoCapture(0)\n",
    "count=0\n",
    "\n",
    "while True:\n",
    "    ret,frame=cam.read()\n",
    "    \n",
    "    \n",
    "    if face_extractor(frame) is not None:\n",
    "        count+=1\n",
    "        face=cv.resize(face_extractor(frame),(200,200))\n",
    "        \n",
    "        \n",
    "        file_path='C:/Users/oswal/Desktop/lco/day 12 face detection/image/user'+str(count)+'.jpg'\n",
    "        cv.imwrite(file_path,face)\n",
    "        \n",
    "        cv.putText(frame,str(count),(50,50),cv.FONT_HERSHEY_COMPLEX,1,(0,255,0),2)\n",
    "        cv.imshow('face_capture',frame)\n",
    "        \n",
    "    else:\n",
    "        pass\n",
    "    \n",
    "    key=cv.waitKey(1)\n",
    "    if key==ord('q') or count==100:\n",
    "        cv.destroyAllWindows()\n",
    "        break\n",
    "        \n",
    "cam.release()\n",
    "\n",
    "print(\"collecting samples complete\")\n",
    "\n",
    "        \n",
    "        "
   ]
  },
  {
   "cell_type": "code",
   "execution_count": null,
   "metadata": {},
   "outputs": [],
   "source": [
    "## capture whole frame\n",
    "cam=cv.VideoCapture(0)\n",
    "count=0\n",
    "\n",
    "while True:\n",
    "    _,frame=cam.read()\n",
    "    count+=1\n",
    "    img_gray=cv.cvtColor(frame,cv.COLOR_RGB2GRAY)\n",
    "    faces=model.detectMultiScale(img_gray,1.3,5)\n",
    "    for i in faces:\n",
    "        x,y,w,h=i\n",
    "        cv.rectangle(frame,(x,y),(x+w,y+h),(255,255,255),5)\n",
    "#         frame2=cv.cvtColor(img_gray,cv.COLOR_GRAY2RGB)\n",
    "    cv.putText(frame,str(count),(50,50),cv.FONT_HERSHEY_COMPLEX,1,(0,255,0),2)\n",
    "    cv.imshow(\"face detection\",frame)\n",
    "    \n",
    "    file_path='C:/Users/oswal/Desktop/lco/day 12 face detection/frame/user'+str(count)+'.jpg'\n",
    "    cv.imwrite(file_path,frame)\n",
    "    \n",
    "    key=cv.waitKey(1)\n",
    "    if key==ord('q'):\n",
    "        cv.destroyAllWindows()\n",
    "        break\n",
    "cam.release()"
   ]
  },
  {
   "cell_type": "code",
   "execution_count": null,
   "metadata": {},
   "outputs": [],
   "source": []
  }
 ],
 "metadata": {
  "kernelspec": {
   "display_name": "Python 3",
   "language": "python",
   "name": "python3"
  },
  "language_info": {
   "codemirror_mode": {
    "name": "ipython",
    "version": 3
   },
   "file_extension": ".py",
   "mimetype": "text/x-python",
   "name": "python",
   "nbconvert_exporter": "python",
   "pygments_lexer": "ipython3",
   "version": "3.7.3"
  }
 },
 "nbformat": 4,
 "nbformat_minor": 2
}
